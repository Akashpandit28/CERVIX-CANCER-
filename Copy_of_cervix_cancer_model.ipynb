{
  "cells": [
    {
      "cell_type": "markdown",
      "metadata": {
        "id": "view-in-github",
        "colab_type": "text"
      },
      "source": [
        "<a href=\"https://colab.research.google.com/github/prince26ayush/CERVIX-CANCER-/blob/main/Copy_of_cervix_cancer_model.ipynb\" target=\"_parent\"><img src=\"https://colab.research.google.com/assets/colab-badge.svg\" alt=\"Open In Colab\"/></a>"
      ]
    },
    {
      "cell_type": "code",
      "execution_count": null,
      "metadata": {
        "id": "SEBPqXIsrewK"
      },
      "outputs": [],
      "source": [
        "from google.colab import drive "
      ]
    },
    {
      "cell_type": "code",
      "execution_count": null,
      "metadata": {
        "colab": {
          "base_uri": "https://localhost:8080/"
        },
        "id": "dspGrpfJr0qW",
        "outputId": "09907dc7-48f3-499e-cb3a-7371f30b5c36"
      },
      "outputs": [
        {
          "output_type": "stream",
          "name": "stdout",
          "text": [
            "Drive already mounted at /content/drive/; to attempt to forcibly remount, call drive.mount(\"/content/drive/\", force_remount=True).\n"
          ]
        }
      ],
      "source": [
        "drive.mount('/content/drive/')"
      ]
    },
    {
      "cell_type": "code",
      "execution_count": null,
      "metadata": {
        "id": "bdhCCzrVe-H6"
      },
      "outputs": [],
      "source": [
        "# Import necessary libraries\n",
        "import os\n",
        "import numpy as np\n",
        "import pandas as pd\n",
        "import matplotlib.pyplot as plt\n",
        "from sklearn.model_selection import train_test_split\n",
        "from tensorflow.keras.preprocessing.image import ImageDataGenerator\n",
        "from tensorflow.keras.models import Sequential\n",
        "from tensorflow.keras.layers import Conv2D, MaxPooling2D, Flatten, Dense, Dropout\n",
        "from PIL import ImageFile                 \n",
        "from keras import models                                     \n",
        "ImageFile.LOAD_TRUNCATED_IMAGES = True "
      ]
    },
    {
      "cell_type": "code",
      "execution_count": null,
      "metadata": {
        "id": "WtAAkQadgALT"
      },
      "outputs": [],
      "source": [
        "from PIL import Image\n",
        "def delete_corrupted_img(path):\n",
        "    for root, dirs, files in os.walk(path):\n",
        "        for file in files:\n",
        "            try:\n",
        "                img = Image.open(os.path.join(root, file))\n",
        "                img.verify()\n",
        "            except (IOError, SyntaxError) as e:\n",
        "                print('Bad file:', os.path.join(root, file))\n",
        "                os.remove(os.path.join(root, file))\n",
        "\n",
        "delete_corrupted_img('train')"
      ]
    },
    {
      "cell_type": "code",
      "execution_count": null,
      "metadata": {
        "colab": {
          "base_uri": "https://localhost:8080/"
        },
        "id": "karYL4WrgCPM",
        "outputId": "4f1f57d0-1706-4650-cdec-aff9e181c177"
      },
      "outputs": [
        {
          "output_type": "stream",
          "name": "stdout",
          "text": [
            "Found 710 images belonging to 2 classes.\n"
          ]
        }
      ],
      "source": [
        "#read images from test folder\n",
        "\n",
        "train_dir = r'/content/drive/MyDrive/Colab Notebooks/data set/train'\n",
        "train_datagen = ImageDataGenerator(rescale=1./255)\n",
        "train_generator = train_datagen.flow_from_directory(\n",
        "        train_dir,\n",
        "        target_size=(150, 150),\n",
        "        batch_size=20,\n",
        "        class_mode='categorical')"
      ]
    },
    {
      "cell_type": "code",
      "execution_count": null,
      "metadata": {
        "colab": {
          "base_uri": "https://localhost:8080/"
        },
        "id": "a1tTCx7ea6uy",
        "outputId": "fbaa9937-5b9a-4429-ce13-85d6eb2711ae"
      },
      "outputs": [
        {
          "output_type": "stream",
          "name": "stdout",
          "text": [
            "{'Type_1': 0, 'Type_2': 1}\n"
          ]
        }
      ],
      "source": [
        "class_img = train_generator.class_indices\n",
        "print(class_img)"
      ]
    },
    {
      "cell_type": "code",
      "execution_count": null,
      "metadata": {
        "id": "r8Jf3YTEgEml"
      },
      "outputs": [],
      "source": [
        "# Define the model architecture\n",
        "model = Sequential()\n",
        "model.add(Conv2D(32, (3, 3), activation='relu', input_shape=(150, 150, 3)))\n",
        "model.add(MaxPooling2D((2, 2)))\n",
        "model.add(Conv2D(64, (3, 3), activation='relu'))\n",
        "model.add(MaxPooling2D((2, 2)))\n",
        "model.add(Conv2D(128, (3, 3), activation='relu'))\n",
        "model.add(MaxPooling2D((2, 2)))\n",
        "model.add(Conv2D(256, (3, 3), activation='relu'))\n",
        "model.add(MaxPooling2D((2, 2)))\n",
        "model.add(Flatten())\n",
        "model.add(Dense(512, activation='relu'))\n",
        "model.add(Dropout(0.5))\n",
        "model.add(Dense(2, activation='softmax'))"
      ]
    },
    {
      "cell_type": "code",
      "execution_count": null,
      "metadata": {
        "id": "HFr2VNUBgGtA"
      },
      "outputs": [],
      "source": [
        "# Compile the model\n",
        "model.compile(optimizer='adam', loss='categorical_crossentropy', metrics=['accuracy'])"
      ]
    },
    {
      "cell_type": "code",
      "execution_count": null,
      "metadata": {
        "id": "a2lI3uapIV9l"
      },
      "outputs": [],
      "source": [
        "import tensorflow as tf"
      ]
    },
    {
      "cell_type": "code",
      "execution_count": null,
      "metadata": {
        "colab": {
          "base_uri": "https://localhost:8080/"
        },
        "id": "SPu1iVVNgI2H",
        "outputId": "f9081c4c-14f6-4e48-8c0a-dd99eab28039"
      },
      "outputs": [
        {
          "output_type": "stream",
          "name": "stdout",
          "text": [
            "Epoch 1/5\n",
            "12/36 [=========>....................] - ETA: 5:18 - loss: 0.7983 - accuracy: 0.6375"
          ]
        }
      ],
      "source": [
        "# Train the model\n",
        "history = model.fit(train_generator, epochs=5 )"
      ]
    },
    {
      "cell_type": "code",
      "execution_count": null,
      "metadata": {
        "id": "-GMQI3J5hh4f"
      },
      "outputs": [],
      "source": [
        "loaded_model.save('new_model2.h5')"
      ]
    },
    {
      "cell_type": "code",
      "execution_count": null,
      "metadata": {
        "id": "dQnJK0DKgKqX"
      },
      "outputs": [],
      "source": [
        "test_dir = r'/content/drive/MyDrive/Colab Notebooks/data set/train'\n",
        "if os.path.exists(test_dir):\n",
        "    test_datagen = ImageDataGenerator(rescale=1./255)\n",
        "    val_generator = test_datagen.flow_from_directory(\n",
        "        test_dir,\n",
        "        target_size=(150, 150),\n",
        "        batch_size=20,\n",
        "        class_mode=None)\n",
        "else:\n",
        "    print(f\"The directory {test_dir} does not exist.\")"
      ]
    },
    {
      "cell_type": "code",
      "execution_count": null,
      "metadata": {
        "id": "g9RqtNnBgM2d"
      },
      "outputs": [],
      "source": [
        "from traitlets.traitlets import Any\n",
        "import cv2\n",
        "\n",
        "#load image and feed to model\n",
        "img = cv2.imread('/content/drive/MyDrive/Colab Notebooks/data set/train/Type_1/1013.jpg')\n",
        "img = cv2.resize(img,(150,150))\n",
        "img=img/255.0\n",
        "img = np.reshape(img,[1,150,150,3])\n",
        "classes = model.predict(img)\n",
        "img = np.expand_dims(img, axis=0)\n",
        "maxx = np.max(classes)"
      ]
    },
    {
      "cell_type": "code",
      "execution_count": null,
      "metadata": {
        "id": "415XXIeSX9OW"
      },
      "outputs": [],
      "source": [
        "import cv2\n",
        "\n",
        "#load image and feed to model\n",
        "img = cv2.imread('/content/drive/MyDrive/Colab Notebooks/data set/train/Type_1/1288.jpg')\n",
        "img = cv2.resize(img,(150,150))\n",
        "img = np.reshape(img,[1,150,150,3])\n",
        "classes = model.predict(img)\n",
        "\n",
        "maxx = np.max(classes)\n",
        "maxx = int(maxx)\n",
        "#put index in class_img\n",
        "for i in class_img:\n",
        "    if class_img[i] == np.argmax(classes):\n",
        "        print(i)"
      ]
    },
    {
      "cell_type": "code",
      "execution_count": null,
      "metadata": {
        "id": "8gTeo0v-sla7"
      },
      "outputs": [],
      "source": []
    }
  ],
  "metadata": {
    "accelerator": "GPU",
    "colab": {
      "provenance": [],
      "mount_file_id": "1aA8tmAzoYKmLcTebTsPr76a7Nk3xGRhx",
      "authorship_tag": "ABX9TyNdg0eaFIgLQ015onsQ/1AM",
      "include_colab_link": true
    },
    "gpuClass": "standard",
    "kernelspec": {
      "display_name": "Python 3",
      "name": "python3"
    },
    "language_info": {
      "name": "python"
    }
  },
  "nbformat": 4,
  "nbformat_minor": 0
}