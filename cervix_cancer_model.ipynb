{
  "nbformat": 4,
  "nbformat_minor": 0,
  "metadata": {
    "colab": {
      "provenance": [],
      "authorship_tag": "ABX9TyOMzr0AXQFG9ejgF1MuXZOi",
      "include_colab_link": true
    },
    "kernelspec": {
      "name": "python3",
      "display_name": "Python 3"
    },
    "language_info": {
      "name": "python"
    },
    "gpuClass": "standard",
    "accelerator": "GPU"
  },
  "cells": [
    {
      "cell_type": "markdown",
      "metadata": {
        "id": "view-in-github",
        "colab_type": "text"
      },
      "source": [
        "<a href=\"https://colab.research.google.com/github/prince26ayush/CERVIX-CANCER-/blob/main/cervix_cancer_model.ipynb\" target=\"_parent\"><img src=\"https://colab.research.google.com/assets/colab-badge.svg\" alt=\"Open In Colab\"/></a>"
      ]
    },
    {
      "cell_type": "code",
      "source": [
        "from google.colab import drive "
      ],
      "metadata": {
        "id": "SEBPqXIsrewK"
      },
      "execution_count": 2,
      "outputs": []
    },
    {
      "cell_type": "code",
      "source": [
        "drive.mount('/content/drive/')"
      ],
      "metadata": {
        "colab": {
          "base_uri": "https://localhost:8080/"
        },
        "id": "dspGrpfJr0qW",
        "outputId": "e7aadd39-ba14-4500-a4ed-43e6c461079b"
      },
      "execution_count": 3,
      "outputs": [
        {
          "output_type": "stream",
          "name": "stdout",
          "text": [
            "Mounted at /content/drive/\n"
          ]
        }
      ]
    },
    {
      "cell_type": "code",
      "execution_count": 4,
      "metadata": {
        "id": "bdhCCzrVe-H6"
      },
      "outputs": [],
      "source": [
        "# Import necessary libraries\n",
        "import os\n",
        "import numpy as np\n",
        "import pandas as pd\n",
        "import matplotlib.pyplot as plt\n",
        "from sklearn.model_selection import train_test_split\n",
        "from tensorflow.keras.preprocessing.image import ImageDataGenerator\n",
        "from tensorflow.keras.models import Sequential\n",
        "from tensorflow.keras.layers import Conv2D, MaxPooling2D, Flatten, Dense, Dropout\n",
        "from PIL import ImageFile                                                      \n",
        "ImageFile.LOAD_TRUNCATED_IMAGES = True "
      ]
    },
    {
      "cell_type": "code",
      "source": [
        "from PIL import Image\n",
        "def delete_corrupted_img(path):\n",
        "    for root, dirs, files in os.walk(path):\n",
        "        for file in files:\n",
        "            try:\n",
        "                img = Image.open(os.path.join(root, file))\n",
        "                img.verify()\n",
        "            except (IOError, SyntaxError) as e:\n",
        "                print('Bad file:', os.path.join(root, file))\n",
        "                os.remove(os.path.join(root, file))\n",
        "\n",
        "delete_corrupted_img('train')"
      ],
      "metadata": {
        "id": "WtAAkQadgALT"
      },
      "execution_count": 5,
      "outputs": []
    },
    {
      "cell_type": "code",
      "source": [
        "#read images from test folder\n",
        "\n",
        "train_dir = r'/content/drive/MyDrive/Colab Notebooks/data set/train'\n",
        "train_datagen = ImageDataGenerator(rescale=1./255)\n",
        "train_generator = train_datagen.flow_from_directory(\n",
        "        train_dir,\n",
        "        target_size=(150, 150),\n",
        "        batch_size=20,\n",
        "        class_mode='categorical')"
      ],
      "metadata": {
        "colab": {
          "base_uri": "https://localhost:8080/"
        },
        "id": "karYL4WrgCPM",
        "outputId": "c164e7c7-e7b4-4c36-9a00-09638b5d46ae"
      },
      "execution_count": 6,
      "outputs": [
        {
          "output_type": "stream",
          "name": "stdout",
          "text": [
            "Found 710 images belonging to 2 classes.\n"
          ]
        }
      ]
    },
    {
      "cell_type": "code",
      "source": [
        "class_img = train_generator.class_indices\n",
        "print(class_img)"
      ],
      "metadata": {
        "colab": {
          "base_uri": "https://localhost:8080/"
        },
        "id": "a1tTCx7ea6uy",
        "outputId": "03dfe52b-ec9d-4bb3-fe09-ac0059467537"
      },
      "execution_count": 7,
      "outputs": [
        {
          "output_type": "stream",
          "name": "stdout",
          "text": [
            "{'Type_1': 0, 'Type_2': 1}\n"
          ]
        }
      ]
    },
    {
      "cell_type": "code",
      "source": [
        "# Define the model architecture\n",
        "model = Sequential()\n",
        "model.add(Conv2D(32, (3, 3), activation='relu', input_shape=(150, 150, 3)))\n",
        "model.add(MaxPooling2D((2, 2)))\n",
        "model.add(Conv2D(64, (3, 3), activation='relu'))\n",
        "model.add(MaxPooling2D((2, 2)))\n",
        "model.add(Conv2D(128, (3, 3), activation='relu'))\n",
        "model.add(MaxPooling2D((2, 2)))\n",
        "model.add(Conv2D(256, (3, 3), activation='relu'))\n",
        "model.add(MaxPooling2D((2, 2)))\n",
        "model.add(Flatten())\n",
        "model.add(Dense(512, activation='relu'))\n",
        "model.add(Dropout(0.5))\n",
        "model.add(Dense(2, activation='softmax'))"
      ],
      "metadata": {
        "id": "r8Jf3YTEgEml"
      },
      "execution_count": 8,
      "outputs": []
    },
    {
      "cell_type": "code",
      "source": [
        "# Compile the model\n",
        "model.compile(optimizer='adam', loss='categorical_crossentropy', metrics=['accuracy'])"
      ],
      "metadata": {
        "id": "HFr2VNUBgGtA"
      },
      "execution_count": 9,
      "outputs": []
    },
    {
      "cell_type": "code",
      "source": [
        "# Train the model\n",
        "history = model.fit(train_generator, epochs=10)"
      ],
      "metadata": {
        "colab": {
          "base_uri": "https://localhost:8080/"
        },
        "id": "SPu1iVVNgI2H",
        "outputId": "acaecb88-d043-40bd-acb5-01fcad46d4fa"
      },
      "execution_count": null,
      "outputs": [
        {
          "output_type": "stream",
          "name": "stdout",
          "text": [
            "Epoch 1/10\n",
            "32/36 [=========================>....] - ETA: 27s - loss: 0.6713 - accuracy: 0.6302"
          ]
        }
      ]
    },
    {
      "cell_type": "code",
      "source": [
        "test_dir = r'/content/drive/MyDrive/Colab Notebooks/data set/train'\n",
        "if os.path.exists(test_dir):\n",
        "    test_datagen = ImageDataGenerator(rescale=1./255)\n",
        "    val_generator = test_datagen.flow_from_directory(\n",
        "        test_dir,\n",
        "        target_size=(150, 150),\n",
        "        batch_size=20,\n",
        "        class_mode=None)\n",
        "else:\n",
        "    print(f\"The directory {test_dir} does not exist.\")"
      ],
      "metadata": {
        "colab": {
          "base_uri": "https://localhost:8080/"
        },
        "id": "dQnJK0DKgKqX",
        "outputId": "71f6a558-a541-4942-ce0d-2f3565a4fafd"
      },
      "execution_count": 14,
      "outputs": [
        {
          "output_type": "stream",
          "name": "stdout",
          "text": [
            "Found 710 images belonging to 2 classes.\n"
          ]
        }
      ]
    },
    {
      "cell_type": "code",
      "source": [
        "from traitlets.traitlets import Any\n",
        "import cv2\n",
        "\n",
        "#load image and feed to model\n",
        "img = cv2.imread('/content/drive/MyDrive/Colab Notebooks/data set/train/Type_1/1013.jpg')\n",
        "img = cv2.resize(img,(150,150))\n",
        "img=img/255.0\n",
        "img = np.reshape(img,[1,150,150,3])\n",
        "classes = model.predict(img)\n",
        "img = np.expand_dims(img, axis=0)\n",
        "maxx = np.max(classes)"
      ],
      "metadata": {
        "colab": {
          "base_uri": "https://localhost:8080/"
        },
        "id": "g9RqtNnBgM2d",
        "outputId": "0d6048c9-5ca9-4d49-fe44-26cdab685d41"
      },
      "execution_count": 30,
      "outputs": [
        {
          "output_type": "stream",
          "name": "stdout",
          "text": [
            "1/1 [==============================] - 0s 44ms/step\n"
          ]
        }
      ]
    },
    {
      "cell_type": "code",
      "source": [
        "import cv2\n",
        "\n",
        "#load image and feed to model\n",
        "img = cv2.imread('/content/drive/MyDrive/Colab Notebooks/data set/train/Type_1/1013.jpg')\n",
        "img = cv2.resize(img,(150,150))\n",
        "img = np.reshape(img,[1,150,150,3])\n",
        "classes = model.predict(img)\n",
        "\n",
        "maxx = np.max(classes)\n",
        "maxx = int(maxx)\n",
        "#put index in class_img\n",
        "for i in class_img:\n",
        "    if class_img[i] == np.argmax(classes):\n",
        "        print(i)"
      ],
      "metadata": {
        "colab": {
          "base_uri": "https://localhost:8080/"
        },
        "id": "415XXIeSX9OW",
        "outputId": "57ac3144-61a9-48c7-8950-0da3556905b1"
      },
      "execution_count": 37,
      "outputs": [
        {
          "output_type": "stream",
          "name": "stdout",
          "text": [
            "1/1 [==============================] - 0s 83ms/step\n",
            "Type_2\n"
          ]
        }
      ]
    }
  ]
}